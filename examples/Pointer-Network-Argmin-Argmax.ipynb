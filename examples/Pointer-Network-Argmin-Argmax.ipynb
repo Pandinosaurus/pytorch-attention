{
 "cells": [
  {
   "cell_type": "markdown",
   "metadata": {},
   "source": [
    "# Pointer Network Attention Demo\n",
    "\n",
    "The below code trains a [pointer network](https://arxiv.org/abs/1506.03134) like architecture that takes as input a sequence of vectors and outputs the vector with the minimum or maximum value along a particular coordinate. In other words, a neural network version of argmax/argmin.\n",
    "\n",
    "### Setup\n",
    "\n",
    "Let $\\{\\mathbf{c}_i\\}_{i=1}^n = (\\mathbf{c}_1, \\ldots, \\mathbf{c}_n)$ be a sequence of $n$ vectors with each $\\mathbf{c}_i \\in \\mathbb{R}^d$. The minimum and maximum target positions, $i_\\min$ and $i_\\max$, for the sequence are given by\n",
    "\n",
    "$$\n",
    "\\begin{align*}\n",
    "    i_\\min &= \\text{argmin}_i \\left\\{ x_{i, k_\\min}\\right\\} \\\\\n",
    "    i_\\max &= \\text{argmax}_i \\left\\{ x_{i, k_\\max}\\right\\} \\\\\n",
    "\\end{align*}\n",
    "$$\n",
    "\n",
    "where $1 \\leq k_\\min \\neq k_\\max \\leq d$ are a priori chosen coordiantes along which to compute the minimum or maximum.\n",
    "\n",
    "### Model\n",
    "\n",
    "The model has the following form\n",
    "\n",
    "$$\n",
    "\\begin{align*}\n",
    "    \\mathbf{u}_i &= A \\mathbf{c}_i & \\; i = 1, \\ldots, n \\\\\n",
    "    \\mathbf{v} &= B \\mathbf{q} \\\\\n",
    "    \\mathbf{p} &= \\text{softmax}_i(\\mathbf{v}^T \\mathbf{u}_i) \\\\\n",
    "    \\mathbf{z} &= \\sum_i p_i \\mathbf{c}_i\n",
    "\\end{align*}\n",
    "$$\n",
    "\n",
    "where $A, B \\in \\mathbb{R}^{p \\times d}$ and $\\mathbf{q} \\in \\{\\mathbf{q}_\\min, \\mathbf{q}_\\max\\} \\subseteq \\mathbb{R}^d$ is a query vector indicating whether the model should output the minimum or maximum.\n",
    "\n",
    "The loss is defined as the mean squared error between the output and target vector.\n",
    "\n",
    "$$\n",
    "\\begin{align*}\n",
    "    l &= \\frac{1}{n}\\sum_j (z_j - c_{t,j})^2\n",
    "\\end{align*}\n",
    "$$\n",
    "\n",
    "where $t$ is either $i_\\min$ or $i_\\max$.\n",
    "\n",
    "### Details\n",
    "The vectors $\\mathbf{q}_\\min$ and $\\mathbf{q}_\\max$ are initialized to random values sampled from $N(\\mathbb{0}, \\mathbb{I}_d)$ and held constant throughout training. The code below uses 10 dimensional context and query vectors and 7 dimensional hidden representations. The model is optimized over 1,600 training instances using RMSProp with mini batches of size 8. Each training instance contains betwen 5 and 14 context vectors. To better assess generalization validation instances are longer, containing between 15 and 24 context vectors."
   ]
  },
  {
   "cell_type": "code",
   "execution_count": 1,
   "metadata": {},
   "outputs": [
    {
     "name": "stdout",
     "output_type": "stream",
     "text": [
      "Seed: 1273\n"
     ]
    }
   ],
   "source": [
    "%matplotlib inline\n",
    "import matplotlib.pyplot as plt\n",
    "import numpy as np\n",
    "import seaborn as sns\n",
    "\n",
    "import torch\n",
    "from torch.nn import Linear, Module\n",
    "\n",
    "from attention import attend\n",
    "\n",
    "\n",
    "seed = sum(map(ord, 'les bons mots'))\n",
    "np.random.seed(seed)\n",
    "torch.manual_seed(seed)\n",
    "print(f'Seed: {seed}')"
   ]
  },
  {
   "cell_type": "code",
   "execution_count": 2,
   "metadata": {},
   "outputs": [],
   "source": [
    "class Data(object):\n",
    "    dim = 10\n",
    "    min_position, max_position = 3, 7\n",
    "    q_min = np.random.normal(0, 1, dim).astype(np.float32)\n",
    "    q_max = np.random.normal(0, 1, dim).astype(np.float32)\n",
    "    query = np.row_stack([q_min, q_max])\n",
    "\n",
    "    @staticmethod\n",
    "    def create_minibatches(n, m, min_length, max_length):\n",
    "        assert 0 < min_length <= max_length\n",
    "\n",
    "        minibatches = []\n",
    "        for i in range(n):\n",
    "            lengths = np.random.randint(min_length, max_length + 1, m)\n",
    "            context = np.zeros((m, lengths.max(), Data.dim), dtype=np.float32)\n",
    "            target = np.zeros((m, 2, Data.dim), dtype=np.float32)\n",
    "            target_indices = []\n",
    "\n",
    "            for j, length in enumerate(lengths):\n",
    "                c = np.random.normal(0, 1, (length, Data.dim))\n",
    "                k_min = np.argmin(c[:,Data.min_position])\n",
    "                k_max = np.argmax(c[:,Data.max_position])\n",
    "                target_min = c[k_min]\n",
    "                target_max = c[k_max]\n",
    "                context[j,:length] = c\n",
    "                target[j,0] = target_min\n",
    "                target[j,1] = target_max\n",
    "                target_indices.append((k_min, k_max))\n",
    "\n",
    "            query = torch.from_numpy(np.tile(Data.query, (m, 1, 1)))\n",
    "            context = torch.from_numpy(context)\n",
    "            target = torch.from_numpy(target)\n",
    "            minibatches.append((query, context, target, lengths, target_indices))\n",
    "        return minibatches"
   ]
  },
  {
   "cell_type": "code",
   "execution_count": 3,
   "metadata": {},
   "outputs": [],
   "source": [
    "class PointerNet(Module):\n",
    "    def __init__(self, n_hidden):\n",
    "        super().__init__()\n",
    "        self.n_hidden = n_hidden\n",
    "        self.f = Linear(Data.dim, n_hidden)\n",
    "        self.g = Linear(Data.dim, n_hidden)\n",
    "\n",
    "    def forward(self, q, x, lengths=None, **kwargs):\n",
    "        batch_size_q, n_queries, dim_q = q.size()\n",
    "        batch_size_x, n_inputs, dim_x = x.size()\n",
    "        assert batch_size_q == batch_size_x\n",
    "        assert dim_q == dim_x\n",
    "        batch_size = batch_size_q\n",
    "        dim = dim_q\n",
    "\n",
    "        q_flat = q.view(batch_size*n_queries, dim)\n",
    "        u_flat = self.f(q_flat)\n",
    "        u = u_flat.view(batch_size, n_queries, self.n_hidden)\n",
    "\n",
    "        x_flat = x.view(batch_size*n_inputs, dim)\n",
    "        v_flat = self.g(x_flat)\n",
    "        v = v_flat.view(batch_size, n_inputs, self.n_hidden)\n",
    "\n",
    "        return attend(u, v, value=x, context_sizes=lengths, **kwargs)"
   ]
  },
  {
   "cell_type": "code",
   "execution_count": 4,
   "metadata": {},
   "outputs": [],
   "source": [
    "batch_size = 8\n",
    "\n",
    "n_train = 200\n",
    "min_length_train, max_length_train = 5, 14\n",
    "train_batches = Data.create_minibatches(n_train, batch_size, min_length_train, max_length_train)\n",
    "\n",
    "n_valid = 100\n",
    "min_length_valid, max_length_valid = 15, 24\n",
    "valid_batches = Data.create_minibatches(n_valid, batch_size, min_length_valid, max_length_valid)"
   ]
  },
  {
   "cell_type": "code",
   "execution_count": 5,
   "metadata": {},
   "outputs": [],
   "source": [
    "net = PointerNet(7)\n",
    "opt = torch.optim.RMSprop(net.parameters(), lr=0.001)\n",
    "mse = torch.nn.MSELoss()"
   ]
  },
  {
   "cell_type": "code",
   "execution_count": 6,
   "metadata": {},
   "outputs": [
    {
     "name": "stdout",
     "output_type": "stream",
     "text": [
      "[ 1] 0.647\n",
      "[ 2] 0.264\n",
      "[ 3] 0.162\n",
      "[ 4] 0.120\n",
      "[ 5] 0.096\n",
      "[ 6] 0.081\n",
      "[ 7] 0.070\n",
      "[ 8] 0.063\n",
      "[ 9] 0.057\n",
      "[10] 0.052\n"
     ]
    }
   ],
   "source": [
    "epoch = 0\n",
    "max_epochs = 10\n",
    "while epoch < max_epochs:\n",
    "    sum_loss = 0\n",
    "    for query, context, target, lengths, target_indices in train_batches:\n",
    "        net.zero_grad()\n",
    "        output = net(query, context, lengths=lengths)\n",
    "        loss = mse(output, target)\n",
    "        loss.backward()\n",
    "        opt.step()\n",
    "        sum_loss += loss.item()\n",
    "    epoch += 1\n",
    "    print('[{:2d}] {:5.3f}'.format(epoch, sum_loss / n_train))"
   ]
  },
  {
   "cell_type": "code",
   "execution_count": 7,
   "metadata": {},
   "outputs": [
    {
     "name": "stdout",
     "output_type": "stream",
     "text": [
      "valid loss: 0.059\n",
      "valid error min: 0.018\n",
      "valid error max: 0.015\n"
     ]
    }
   ],
   "source": [
    "sum_loss = 0\n",
    "sum_error_min = 0\n",
    "sum_error_max = 0\n",
    "\n",
    "for query, context, target, lengths, target_indices in valid_batches:\n",
    "    with torch.no_grad():\n",
    "        weight, output = net(query, context, lengths=lengths, return_weight=True)\n",
    "        loss = mse(output, target)\n",
    "\n",
    "    sum_loss += loss.item()\n",
    "    weight = weight.data.numpy()\n",
    "\n",
    "    for i, (i_min_true, i_max_true) in enumerate(target_indices):\n",
    "        w_min, w_max = weight[i]\n",
    "        i_min_pred = w_min.argmax()\n",
    "        i_max_pred = w_max.argmax()\n",
    "        sum_error_min += int(i_min_true != i_min_pred)\n",
    "        sum_error_max += int(i_max_true != i_max_pred)\n",
    "\n",
    "print('valid loss: {:5.3f}'.format(sum_loss / n_valid))\n",
    "print('valid error min: {:5.3f}'.format(sum_error_min / (n_valid * batch_size)))\n",
    "print('valid error max: {:5.3f}'.format(sum_error_max / (n_valid * batch_size)))"
   ]
  },
  {
   "cell_type": "code",
   "execution_count": 8,
   "metadata": {},
   "outputs": [
    {
     "data": {
      "image/png": "[encoded data removed]",
      "text/plain": [
       "<Figure size 720x720 with 16 Axes>"
      ]
     },
     "metadata": {
      "needs_background": "light"
     },
     "output_type": "display_data"
    }
   ],
   "source": [
    "query, context, target, lengths, target_indices = valid_batches[0]\n",
    "\n",
    "with torch.no_grad():\n",
    "    weight, output = net(query, context, lengths=lengths, return_weight=True)\n",
    "\n",
    "context = context.numpy()\n",
    "weight = weight.data.numpy()\n",
    "\n",
    "colors = sns.color_palette('husl', 3)\n",
    "\n",
    "fig, axs = plt.subplots(batch_size, 2, figsize=(10, 10), sharex=True, sharey=True)\n",
    "sns.despine(fig=fig)\n",
    "axs_min, axs_max = axs[:,0], axs[:,1]\n",
    "\n",
    "for i, (i_min, i_max) in enumerate(target_indices):\n",
    "    length = lengths[i]\n",
    "    w_min, w_max = weight[i]\n",
    "    c_min = [context[i,j,Data.min_position] for j in range(length)]\n",
    "    c_max = [context[i,j,Data.max_position] for j in range(length)]\n",
    "\n",
    "    axs_min[i].axvline(i_min, zorder=1, color=colors[2], label='min value')\n",
    "    axs_min[i].bar(np.arange(length) - 0.4, c_min, zorder=2, color=colors[1], lw=0, label='values')\n",
    "    axs_min[i].plot(np.arange(length), w_min[:length], zorder=3, color=colors[0], lw=4, label='attention')\n",
    "\n",
    "    axs_max[i].axvline(i_max, zorder=1, color=colors[2], label='max value')\n",
    "    axs_max[i].bar(np.arange(length) - 0.4, c_max, zorder=2, color=colors[1], lw=0, label='values')\n",
    "    axs_max[i].plot(np.arange(length), w_max[:length], zorder=3, color=colors[0], lw=4, label='attention')\n",
    "\n",
    "axs_min[0].set_title('Minimum')\n",
    "axs_max[0].set_title('Maximum')\n",
    "axs_max[0].legend(loc='best')    \n",
    "axs_min[0].legend(loc='best')\n",
    "axs_max[0].legend(loc='best')\n",
    "axs_min[-1].set_xlabel('position')\n",
    "axs_max[-1].set_xlabel('position')\n",
    "plt.tight_layout()"
   ]
  },
  {
   "cell_type": "code",
   "execution_count": null,
   "metadata": {},
   "outputs": [],
   "source": []
  }
 ],
 "metadata": {
  "kernelspec": {
   "display_name": "Python 3",
   "language": "python",
   "name": "python3"
  },
  "language_info": {
   "codemirror_mode": {
    "name": "ipython",
    "version": 3
   },
   "file_extension": ".py",
   "mimetype": "text/x-python",
   "name": "python",
   "nbconvert_exporter": "python",
   "pygments_lexer": "ipython3",
   "version": "3.7.1"
  }
 },
 "nbformat": 4,
 "nbformat_minor": 1
}
